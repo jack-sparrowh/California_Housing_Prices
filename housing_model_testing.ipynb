{
 "cells": [
  {
   "cell_type": "code",
   "execution_count": 11,
   "id": "08978ac2-e30b-4fd7-985a-5c35904b34e2",
   "metadata": {
    "tags": []
   },
   "outputs": [],
   "source": [
    "%config Completer.use_jedi=False"
   ]
  },
  {
   "cell_type": "code",
   "execution_count": 69,
   "id": "3bf51742-7dee-4025-964f-61d12e9c7604",
   "metadata": {
    "tags": []
   },
   "outputs": [],
   "source": [
    "import numpy as np\n",
    "import pandas as pd\n",
    "import matplotlib.pyplot as plt\n",
    "import seaborn as sns\n",
    "\n",
    "import os\n",
    "from sklearn.base import BaseEstimator, TransformerMixin\n",
    "from classes_for_pipeline_py import FeaturesAdder, DataDropper, CappedTargetDropper, small_Pipeline\n",
    "\n",
    "from sklearn.impute import SimpleImputer\n",
    "from sklearn.preprocessing import PowerTransformer, StandardScaler\n",
    "\n",
    "from sklearn.metrics import mean_squared_error as MSE\n",
    "from sklearn.metrics import mean_absolute_error as MAE\n",
    "\n",
    "from sklearn.linear_model import LinearRegression, HuberRegressor, Lasso, Ridge\n",
    "from sklearn.model_selection import cross_val_score, train_test_split, learning_curve\n",
    "\n",
    "RMSE = lambda y_true, y_test: np.sqrt(MSE(y_true, y_test))"
   ]
  },
  {
   "cell_type": "code",
   "execution_count": 13,
   "id": "9c8e58f5-5734-4f1c-9811-d3e63e26e723",
   "metadata": {
    "tags": []
   },
   "outputs": [],
   "source": [
    "HOUSING_DATASET_CSV = os.path.join(os.getcwd(), 'housing_dataset\\housing_data.csv')"
   ]
  },
  {
   "cell_type": "code",
   "execution_count": 48,
   "id": "74b0c210-eaee-4054-a895-4d7c1733b0e8",
   "metadata": {
    "tags": []
   },
   "outputs": [
    {
     "name": "stdout",
     "output_type": "stream",
     "text": [
      "(20640, 10)\n"
     ]
    },
    {
     "data": {
      "text/html": [
       "<div>\n",
       "<style scoped>\n",
       "    .dataframe tbody tr th:only-of-type {\n",
       "        vertical-align: middle;\n",
       "    }\n",
       "\n",
       "    .dataframe tbody tr th {\n",
       "        vertical-align: top;\n",
       "    }\n",
       "\n",
       "    .dataframe thead th {\n",
       "        text-align: right;\n",
       "    }\n",
       "</style>\n",
       "<table border=\"1\" class=\"dataframe\">\n",
       "  <thead>\n",
       "    <tr style=\"text-align: right;\">\n",
       "      <th></th>\n",
       "      <th>longitude</th>\n",
       "      <th>latitude</th>\n",
       "      <th>housing_median_age</th>\n",
       "      <th>total_rooms</th>\n",
       "      <th>total_bedrooms</th>\n",
       "      <th>population</th>\n",
       "      <th>households</th>\n",
       "      <th>median_income</th>\n",
       "      <th>median_house_value</th>\n",
       "      <th>ocean_proximity</th>\n",
       "    </tr>\n",
       "  </thead>\n",
       "  <tbody>\n",
       "    <tr>\n",
       "      <th>0</th>\n",
       "      <td>-122.23</td>\n",
       "      <td>37.88</td>\n",
       "      <td>41.0</td>\n",
       "      <td>880.0</td>\n",
       "      <td>129.0</td>\n",
       "      <td>322.0</td>\n",
       "      <td>126.0</td>\n",
       "      <td>8.3252</td>\n",
       "      <td>452600.0</td>\n",
       "      <td>NEAR BAY</td>\n",
       "    </tr>\n",
       "    <tr>\n",
       "      <th>1</th>\n",
       "      <td>-122.22</td>\n",
       "      <td>37.86</td>\n",
       "      <td>21.0</td>\n",
       "      <td>7099.0</td>\n",
       "      <td>1106.0</td>\n",
       "      <td>2401.0</td>\n",
       "      <td>1138.0</td>\n",
       "      <td>8.3014</td>\n",
       "      <td>358500.0</td>\n",
       "      <td>NEAR BAY</td>\n",
       "    </tr>\n",
       "    <tr>\n",
       "      <th>2</th>\n",
       "      <td>-122.24</td>\n",
       "      <td>37.85</td>\n",
       "      <td>52.0</td>\n",
       "      <td>1467.0</td>\n",
       "      <td>190.0</td>\n",
       "      <td>496.0</td>\n",
       "      <td>177.0</td>\n",
       "      <td>7.2574</td>\n",
       "      <td>352100.0</td>\n",
       "      <td>NEAR BAY</td>\n",
       "    </tr>\n",
       "    <tr>\n",
       "      <th>3</th>\n",
       "      <td>-122.25</td>\n",
       "      <td>37.85</td>\n",
       "      <td>52.0</td>\n",
       "      <td>1274.0</td>\n",
       "      <td>235.0</td>\n",
       "      <td>558.0</td>\n",
       "      <td>219.0</td>\n",
       "      <td>5.6431</td>\n",
       "      <td>341300.0</td>\n",
       "      <td>NEAR BAY</td>\n",
       "    </tr>\n",
       "    <tr>\n",
       "      <th>4</th>\n",
       "      <td>-122.25</td>\n",
       "      <td>37.85</td>\n",
       "      <td>52.0</td>\n",
       "      <td>1627.0</td>\n",
       "      <td>280.0</td>\n",
       "      <td>565.0</td>\n",
       "      <td>259.0</td>\n",
       "      <td>3.8462</td>\n",
       "      <td>342200.0</td>\n",
       "      <td>NEAR BAY</td>\n",
       "    </tr>\n",
       "  </tbody>\n",
       "</table>\n",
       "</div>"
      ],
      "text/plain": [
       "   longitude  latitude  housing_median_age  total_rooms  total_bedrooms  \\\n",
       "0    -122.23     37.88                41.0        880.0           129.0   \n",
       "1    -122.22     37.86                21.0       7099.0          1106.0   \n",
       "2    -122.24     37.85                52.0       1467.0           190.0   \n",
       "3    -122.25     37.85                52.0       1274.0           235.0   \n",
       "4    -122.25     37.85                52.0       1627.0           280.0   \n",
       "\n",
       "   population  households  median_income  median_house_value ocean_proximity  \n",
       "0       322.0       126.0         8.3252            452600.0        NEAR BAY  \n",
       "1      2401.0      1138.0         8.3014            358500.0        NEAR BAY  \n",
       "2       496.0       177.0         7.2574            352100.0        NEAR BAY  \n",
       "3       558.0       219.0         5.6431            341300.0        NEAR BAY  \n",
       "4       565.0       259.0         3.8462            342200.0        NEAR BAY  "
      ]
     },
     "execution_count": 48,
     "metadata": {},
     "output_type": "execute_result"
    }
   ],
   "source": [
    "housing_dataset = pd.read_csv(HOUSING_DATASET_CSV)\n",
    "print(housing_dataset.shape)\n",
    "housing_dataset.head()"
   ]
  },
  {
   "cell_type": "code",
   "execution_count": 49,
   "id": "cb5df0a4-9cab-4ec3-989d-291fe1f65034",
   "metadata": {},
   "outputs": [],
   "source": [
    "# split the dataset\n",
    "train, test = train_test_split(housing_dataset, test_size=0.2, random_state=42)\n",
    "\n",
    "# split the training\n",
    "X_train_pp, X_test_pp = train_test_split(train, test_size=0.2, random_state=42)"
   ]
  },
  {
   "cell_type": "code",
   "execution_count": 79,
   "id": "4298c3b0-9c92-45f4-a1c4-c18eb5495d1f",
   "metadata": {
    "tags": []
   },
   "outputs": [],
   "source": [
    "class PreprocessPipeline(BaseEstimator, TransformerMixin):\n",
    "    \n",
    "    '''any transformer can be access via \n",
    "    PreprocessPipeline.name_of_transformer.list_of_transformers[0][0].statistic_in_question'''\n",
    "    \n",
    "    def __init__(self):\n",
    "        self.median_imputer = small_Pipeline([\n",
    "            (SimpleImputer(strategy='median'), \n",
    "             ['longitude', 'latitude', 'housing_median_age',\n",
    "              'total_rooms', 'total_bedrooms', 'population', \n",
    "              'households', 'median_income', 'median_house_value'])\n",
    "        ])\n",
    "        self.feature_adder = FeaturesAdder()\n",
    "        self.outliers_dropper = small_Pipeline([\n",
    "            (CappedTargetDropper(capped_val=500000.0), 'median_house_value'),\n",
    "            (DataDropper(method='optimized'), 'income_per_household'),\n",
    "            (DataDropper(method='optimized'), 'population_per_household'),\n",
    "            (DataDropper(method='optimized', penalty=0.25), 'rooms_per_household'),\n",
    "            (DataDropper(method='optimized', penalty=0.25), 'rooms_per_age')\n",
    "        ])\n",
    "        self.standardizer = small_Pipeline([\n",
    "            (StandardScaler(), \n",
    "             ['longitude', 'latitude'])\n",
    "        ])\n",
    "        self.features_power_transformer = small_Pipeline([\n",
    "            (PowerTransformer(),\n",
    "             ['housing_median_age', 'total_rooms',\n",
    "              'total_bedrooms', 'population', 'households', 'median_income',\n",
    "              'rooms_per_household', 'income_per_household',\n",
    "              'income_per_population', 'bedrooms_per_rooms',\n",
    "              'population_per_household', 'rooms_per_age'])\n",
    "        ])\n",
    "        self.target_power_transformer = small_Pipeline([\n",
    "            (PowerTransformer(), ['median_house_value'])\n",
    "        ])\n",
    "        \n",
    "    def fit(self, X):\n",
    "        \n",
    "        self.median_imputer.fit(X)\n",
    "        \n",
    "        # since all the later methods are obtained with nans imputed and added\n",
    "        # new features we have to transform X and add new features,\n",
    "        # then fit the other classes\n",
    "        X = self.median_imputer.transform(X)\n",
    "        X = self.feature_adder.fit_transform(X)\n",
    "        \n",
    "        self.outliers_dropper.fit(X)\n",
    "        self.standardizer.fit(X)\n",
    "        self.features_power_transformer.fit(X)\n",
    "        self.target_power_transformer.fit(X)\n",
    "        \n",
    "        return self\n",
    "    \n",
    "    def transform(self, X):\n",
    "        \n",
    "        X = self.median_imputer.transform(X)\n",
    "        X = self.feature_adder.fit_transform(X)\n",
    "        X = self.outliers_dropper.fit_transform(X)\n",
    "        X = X.dropna()\n",
    "        X = self.standardizer.transform(X)\n",
    "        X = self.features_power_transformer.transform(X)\n",
    "        X = self.target_power_transformer.transform(X)\n",
    "        \n",
    "        X_cat = X['ocean_proximity'].copy()\n",
    "        X_num = X.drop(columns=['ocean_proximity'])\n",
    "        \n",
    "        X_cat.loc[X_cat == 'ISLAND'] = np.nan\n",
    "        X_merged = pd.merge(X_num, pd.get_dummies(X_cat, drop_first=True), left_index=True, right_index=True)\n",
    "        \n",
    "        return X_merged\n",
    "\n",
    "PP = PreprocessPipeline()"
   ]
  },
  {
   "cell_type": "code",
   "execution_count": 80,
   "id": "8aee5410-298b-41cf-8a20-fceabfaf8586",
   "metadata": {
    "tags": []
   },
   "outputs": [],
   "source": [
    "# fit and transform the data\n",
    "PP.fit(X_train_pp)\n",
    "X_train, X_test = PP.transform(X_train_pp), PP.transform(X_test_pp)\n",
    "\n",
    "# split to features and target\n",
    "X_train, X_test, y_train, y_test = X_train.drop(columns=['median_house_value']).values,\\\n",
    "                                   X_test.drop(columns=['median_house_value']).values,\\\n",
    "                                   X_train.loc[:, 'median_house_value'].values,\\\n",
    "                                   X_test.loc[:, 'median_house_value'].values"
   ]
  },
  {
   "cell_type": "code",
   "execution_count": 120,
   "id": "121d93be-810e-4cf0-b868-062c60217ac8",
   "metadata": {},
   "outputs": [],
   "source": [
    "def metrics_summary(model, X, y):\n",
    "    list_of_metrics = ['neg_root_mean_squared_error', 'neg_mean_absolute_error']\n",
    "    for metric, name in zip(list_of_metrics, ['RMSE', 'MAE']):\n",
    "        cv_score = -cross_val_score(model, X, y, scoring=metric, cv=5)\n",
    "        print(f'{name}: {cv_score.mean().round(2)} +- {(2 * cv_score.std() / np.sqrt(5)).round(2)}')\n",
    "\n",
    "def target_inverse(pipeline, target):\n",
    "    '''\n",
    "    The function inverses the predicted target, if the target was choosen to be\n",
    "    power transformed.\n",
    "    '''\n",
    "    inv_target = pipeline.target_power_transformer\\\n",
    "                         .list_of_transformers[0][0]\\\n",
    "                         .inverse_transform(\n",
    "                             target.reshape(-1, 1)\n",
    "                         )\n",
    "    return inv_target\n",
    "\n",
    "def plot_learning_curves(model, X, y, metric='neg_root_mean_squared_error', train_size=np.linspace(0.05, 1, 5), cv=5):\n",
    "    S, train_scores, test_scores = learning_curve(model, X, y, scoring=metric, train_sizes=train_size, cv=cv, shuffle=True)\n",
    "    train_scores, test_scores = -train_scores, -test_scores\n",
    "    \n",
    "    plt.plot(S, test_scores.mean(axis=1))\n",
    "    plt.fill_between(S, test_scores.mean(axis=1) + 2 * test_scores.std(axis=1) / np.sqrt(S), test_scores.mean(axis=1) - 2 * test_scores.std(axis=1) / np.sqrt(S), color='blue', alpha=0.1)\n",
    "    \n",
    "    plt.plot(S, train_scores.mean(axis=1))\n",
    "    plt.fill_between(S, train_scores.mean(axis=1) + 2 * train_scores.std(axis=1) / np.sqrt(S), train_scores.mean(axis=1) - 2 * train_scores.std(axis=1) / np.sqrt(S), color='orange', alpha=0.1)\n",
    "    \n",
    "    plt.axhline(np.mean([test_scores.mean(axis=1)[-1], train_scores.mean(axis=1)[-1]]), color='grey', ls='--')\n",
    "    plt.show()\n",
    "    \n",
    "def cv_with_inverse():\n",
    "    return\n",
    "def learning_curves_with_inverse():\n",
    "    return"
   ]
  },
  {
   "cell_type": "code",
   "execution_count": 116,
   "id": "253aad8f-e3e9-46ab-bc23-3b8407556853",
   "metadata": {
    "tags": []
   },
   "outputs": [],
   "source": [
    "# Classical Linear Regression\n",
    "LR = LinearRegression()\n",
    "LR.fit(X_train, y_train)\n",
    "y_pred_LR = LR.predict(X_test)"
   ]
  },
  {
   "cell_type": "code",
   "execution_count": 117,
   "id": "c4f68ab0-484a-4dcf-8b7d-035f3ce0d9fc",
   "metadata": {
    "tags": []
   },
   "outputs": [
    {
     "name": "stdout",
     "output_type": "stream",
     "text": [
      "RMSE: 0.53 +- 0.01\n",
      "MAE: 0.4 +- 0.0\n"
     ]
    }
   ],
   "source": [
    "metrics_summary(LR, X_train, y_train)"
   ]
  },
  {
   "cell_type": "code",
   "execution_count": 118,
   "id": "36819f58-a4e7-455f-b5f2-320432091ad0",
   "metadata": {
    "tags": []
   },
   "outputs": [
    {
     "name": "stderr",
     "output_type": "stream",
     "text": [
      "C:\\ProgramData\\Anaconda3\\lib\\site-packages\\sklearn\\base.py:439: UserWarning: X does not have valid feature names, but PowerTransformer was fitted with feature names\n",
      "  warnings.warn(\n",
      "C:\\ProgramData\\Anaconda3\\lib\\site-packages\\sklearn\\base.py:439: UserWarning: X does not have valid feature names, but PowerTransformer was fitted with feature names\n",
      "  warnings.warn(\n"
     ]
    },
    {
     "data": {
      "text/plain": [
       "64807.942381767854"
      ]
     },
     "execution_count": 118,
     "metadata": {},
     "output_type": "execute_result"
    }
   ],
   "source": [
    "RMSE(target_inverse(PP, y_pred_LR), target_inverse(PP, y_test))"
   ]
  },
  {
   "cell_type": "code",
   "execution_count": 108,
   "id": "35ee03b8-d53c-4d94-9c95-c7da1b06d577",
   "metadata": {
    "tags": []
   },
   "outputs": [
    {
     "data": {
      "image/png": "[encoded data removed]",
      "text/plain": [
       "<Figure size 640x480 with 1 Axes>"
      ]
     },
     "metadata": {},
     "output_type": "display_data"
    }
   ],
   "source": [
    "plot_learning_curves(LR, X_train, y_train, train_size=np.linspace(0.05, 1, 5))"
   ]
  },
  {
   "cell_type": "code",
   "execution_count": null,
   "id": "77121f94-1bb8-4950-a3b4-64943207474e",
   "metadata": {},
   "outputs": [],
   "source": []
  }
 ],
 "metadata": {
  "kernelspec": {
   "display_name": "Python 3 (ipykernel)",
   "language": "python",
   "name": "python3"
  },
  "language_info": {
   "codemirror_mode": {
    "name": "ipython",
    "version": 3
   },
   "file_extension": ".py",
   "mimetype": "text/x-python",
   "name": "python",
   "nbconvert_exporter": "python",
   "pygments_lexer": "ipython3",
   "version": "3.8.16"
  }
 },
 "nbformat": 4,
 "nbformat_minor": 5
}
